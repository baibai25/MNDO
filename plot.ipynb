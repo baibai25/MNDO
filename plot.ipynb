{
 "cells": [
  {
   "cell_type": "code",
   "execution_count": 1,
   "metadata": {},
   "outputs": [],
   "source": [
    "import pandas as pd\n",
    "import numpy as np\n",
    "import matplotlib\n",
    "import matplotlib.pyplot as plt\n",
    "import matplotlib.ticker as tick"
   ]
  },
  {
   "cell_type": "code",
   "execution_count": 28,
   "metadata": {},
   "outputs": [],
   "source": [
    "data = pd.read_csv('result/data/sm.csv', index_col=0)\n",
    "desc = pd.read_csv('result/description.csv', index_col=0)\n",
    "data = data.sort_index()\n",
    "desc = desc.sort_index()\n",
    "data = pd.concat([data, desc], axis=1)\n",
    "data = data.sort_values('IR')\n",
    "#data.drop(['Featurs', 'Instances', 'IR'], axis=1, inplace=True)"
   ]
  },
  {
   "cell_type": "code",
   "execution_count": 30,
   "metadata": {},
   "outputs": [],
   "source": [
    "# split data to each learning method\n",
    "svm = data[data.columns[0:4]]\n",
    "tree = data[data.columns[4:8]]\n",
    "knn = data[data.columns[8:12]]"
   ]
  },
  {
   "cell_type": "code",
   "execution_count": 46,
   "metadata": {},
   "outputs": [],
   "source": [
    "# set some data\n",
    "method_data = [svm, tree, knn]\n",
    "method_name = ['svm', 'tree', 'knn']\n",
    "col = ['Sensitivity', 'Specificity', 'Geometric mean', 'AUC']\n",
    "y_label = col\n",
    "x = data['IR']"
   ]
  },
  {
   "cell_type": "code",
   "execution_count": 48,
   "metadata": {},
   "outputs": [
    {
     "data": {
      "text/plain": [
       "<matplotlib.figure.Figure at 0x7f86855aee48>"
      ]
     },
     "metadata": {},
     "output_type": "display_data"
    }
   ],
   "source": [
    "# plot svm\n",
    "for i in range(len(svm.columns)):\n",
    "    y = svm[svm.columns[i]]\n",
    "    mean_list = [svm[svm.columns[i]].mean()]  * len(x)\n",
    "    # point plot\n",
    "    plt.plot(x, y, label='Data', color='k',marker='o')\n",
    "    plt.plot(x, mean_list, label='Mean', linestyle='dashed', color='k')\n",
    "    # set plt information\n",
    "    plt.title('SVM')\n",
    "    plt.xlabel('IR')\n",
    "    plt.ylabel(y_label[i])\n",
    "    plt.gca().xaxis.set_major_locator(tick.MultipleLocator(10))\n",
    "    plt.gca().xaxis.set_minor_locator(tick.MultipleLocator(1))\n",
    "    plt.grid()\n",
    "    plt.tight_layout()\n",
    "    # export image\n",
    "    save_path = 'result/svm/{}.png'.format(y_label[i])\n",
    "    plt.savefig(save_path, dpi=300)\n",
    "    plt.close()\n",
    "    plt.clf()"
   ]
  },
  {
   "cell_type": "code",
   "execution_count": 51,
   "metadata": {},
   "outputs": [
    {
     "data": {
      "text/plain": [
       "<matplotlib.figure.Figure at 0x7f8684befa58>"
      ]
     },
     "metadata": {},
     "output_type": "display_data"
    }
   ],
   "source": [
    "# plot tree\n",
    "for i in range(len(tree.columns)):\n",
    "    y = tree[tree.columns[i]]\n",
    "    mean_list = [tree[tree.columns[i]].mean()]  * len(x)\n",
    "    # point plot\n",
    "    plt.plot(x, y, label='Data', color='k',marker='o')\n",
    "    plt.plot(x, mean_list, label='Mean', linestyle='dashed', color='k')\n",
    "    # set plt information\n",
    "    plt.title('DT')\n",
    "    plt.xlabel('IR')\n",
    "    plt.ylabel(y_label[i])\n",
    "    plt.gca().xaxis.set_major_locator(tick.MultipleLocator(10))\n",
    "    plt.gca().xaxis.set_minor_locator(tick.MultipleLocator(1))\n",
    "    plt.grid()\n",
    "    plt.tight_layout()\n",
    "    # export image\n",
    "    save_path = 'result/tree/{}.png'.format(y_label[i])\n",
    "    plt.savefig(save_path, dpi=300)\n",
    "    plt.close()\n",
    "    plt.clf()"
   ]
  },
  {
   "cell_type": "code",
   "execution_count": 50,
   "metadata": {},
   "outputs": [
    {
     "data": {
      "text/plain": [
       "<matplotlib.figure.Figure at 0x7f8685fd5550>"
      ]
     },
     "metadata": {},
     "output_type": "display_data"
    }
   ],
   "source": [
    "# plot knn\n",
    "for i in range(len(knn.columns)):\n",
    "    y = knn[knn.columns[i]]\n",
    "    mean_list = [knn[knn.columns[i]].mean()]  * len(x)\n",
    "    # point plot\n",
    "    plt.plot(x, y, label='Data', color='k',marker='o')\n",
    "    plt.plot(x, mean_list, label='Mean', linestyle='dashed', color='k')\n",
    "    # set plt information\n",
    "    plt.title('k-NN')\n",
    "    plt.xlabel('IR')\n",
    "    plt.ylabel(y_label[i])\n",
    "    plt.gca().xaxis.set_major_locator(tick.MultipleLocator(10))\n",
    "    plt.gca().xaxis.set_minor_locator(tick.MultipleLocator(1))\n",
    "    plt.grid()\n",
    "    plt.tight_layout()\n",
    "    # export image\n",
    "    save_path = 'result/knn/{}.png'.format(y_label[i])\n",
    "    plt.savefig(save_path, dpi=300)\n",
    "    plt.close()\n",
    "    plt.clf()"
   ]
  },
  {
   "cell_type": "code",
   "execution_count": null,
   "metadata": {},
   "outputs": [],
   "source": []
  }
 ],
 "metadata": {
  "kernelspec": {
   "display_name": "Python 3",
   "language": "python",
   "name": "python3"
  },
  "language_info": {
   "codemirror_mode": {
    "name": "ipython",
    "version": 3
   },
   "file_extension": ".py",
   "mimetype": "text/x-python",
   "name": "python",
   "nbconvert_exporter": "python",
   "pygments_lexer": "ipython3",
   "version": "3.6.2"
  },
  "varInspector": {
   "cols": {
    "lenName": 16,
    "lenType": 16,
    "lenVar": 40
   },
   "kernels_config": {
    "python": {
     "delete_cmd_postfix": "",
     "delete_cmd_prefix": "del ",
     "library": "var_list.py",
     "varRefreshCmd": "print(var_dic_list())"
    },
    "r": {
     "delete_cmd_postfix": ") ",
     "delete_cmd_prefix": "rm(",
     "library": "var_list.r",
     "varRefreshCmd": "cat(var_dic_list()) "
    }
   },
   "types_to_exclude": [
    "module",
    "function",
    "builtin_function_or_method",
    "instance",
    "_Feature"
   ],
   "window_display": false
  }
 },
 "nbformat": 4,
 "nbformat_minor": 2
}

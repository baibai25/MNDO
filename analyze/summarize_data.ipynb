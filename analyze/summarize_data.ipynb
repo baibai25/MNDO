{
 "cells": [
  {
   "cell_type": "code",
   "execution_count": null,
   "metadata": {},
   "outputs": [],
   "source": [
    "import pandas as pd\n",
    "import numpy as np\n",
    "import matplotlib.pyplot as plt"
   ]
  },
  {
   "cell_type": "code",
   "execution_count": null,
   "metadata": {},
   "outputs": [],
   "source": [
    "sm = pd.read_csv('../result/data/sm.csv', index_col=0)\n",
    "b1 = pd.read_csv('../result/data/b1.csv', index_col=0)\n",
    "b2 = pd.read_csv('../result/data/b2.csv', index_col=0)\n",
    "ada = pd.read_csv('../result/data/ada.csv', index_col=0)\n",
    "enn = pd.read_csv('../result/data/enn.csv', index_col=0)\n",
    "tom = pd.read_csv('../result/data/tom.csv', index_col=0)\n",
    "mnd = pd.read_csv('../result/data/mnd.csv', index_col=0)"
   ]
  },
  {
   "cell_type": "code",
   "execution_count": null,
   "metadata": {},
   "outputs": [],
   "source": [
    "desc_sm = sm.describe()\n",
    "desc_sm = desc_sm.loc['mean':'std']\n",
    "desc_b1 = b1.describe()\n",
    "desc_b1 = desc_b1.loc['mean':'std']\n",
    "desc_b2 = b2.describe()\n",
    "desc_b2 = desc_b2.loc['mean':'std']\n",
    "desc_ada = ada.describe()\n",
    "desc_ada = desc_ada.loc['mean':'std']\n",
    "desc_enn = enn.describe()\n",
    "desc_enn = desc_enn.loc['mean':'std']\n",
    "desc_tom = tom.describe()\n",
    "desc_tom = desc_tom.loc['mean':'std']\n",
    "desc_mnd = mnd.describe()\n",
    "desc_mnd = desc_mnd.loc['mean':'std']\n",
    "desc_list = [desc_sm, desc_b1, desc_b2, desc_ada, desc_enn, desc_tom, desc_mnd]"
   ]
  },
  {
   "cell_type": "code",
   "execution_count": null,
   "metadata": {},
   "outputs": [],
   "source": [
    "metrics = ['Sensitivity', 'Specificity', 'Geometric mean', 'AUC']\n",
    "col = ['SMOTE', 'Borderline1', 'Borderline2', 'ADASYN', 'SMOTEENN', 'SMOTETomek', 'MNDO']"
   ]
  },
  {
   "cell_type": "code",
   "execution_count": null,
   "metadata": {},
   "outputs": [],
   "source": [
    "# 各osの統計量をまとめる\n",
    "svm = pd.DataFrame(index=[], columns=metrics)\n",
    "for i in range(len(desc_list)):\n",
    "    tmp = desc_list[i][desc_list[i].columns[0:4]]\n",
    "    tmp.columns = metrics\n",
    "    svm = pd.concat([svm, tmp])\n",
    "    \n",
    "# 形式を論文用に変更\n",
    "df = pd.DataFrame(index=[], columns=col)\n",
    "mean = svm.loc['mean'].T\n",
    "mean.columns = col\n",
    "std = svm.loc['std'].T\n",
    "std.columns = col\n",
    "\n",
    "for i in range(len(mean.index)):\n",
    "    df = pd.concat([df, mean.iloc[[i]]])\n",
    "    df = pd.concat([df, std.iloc[[i]]])\n",
    "statics = ['Mean', 'Std'] * int(len(df.index)/2)\n",
    "df['Statics'] = statics\n",
    "df = df.set_index([df.index, 'Statics'])\n",
    "df = df.round(4) \n",
    "df.to_csv('../result/summary/svm.csv')"
   ]
  },
  {
   "cell_type": "code",
   "execution_count": null,
   "metadata": {},
   "outputs": [],
   "source": [
    "# 各osの統計量をまとめる\n",
    "svm = pd.DataFrame(index=[], columns=metrics)\n",
    "for i in range(len(desc_list)):\n",
    "    tmp = desc_list[i][desc_list[i].columns[4:8]]\n",
    "    tmp.columns = metrics\n",
    "    svm = pd.concat([svm, tmp])\n",
    "    \n",
    "# 形式を論文用に変更\n",
    "df = pd.DataFrame(index=[], columns=col)\n",
    "mean = svm.loc['mean'].T\n",
    "mean.columns = col\n",
    "std = svm.loc['std'].T\n",
    "std.columns = col\n",
    "\n",
    "for i in range(len(mean.index)):\n",
    "    df = pd.concat([df, mean.iloc[[i]]])\n",
    "    df = pd.concat([df, std.iloc[[i]]])\n",
    "statics = ['Mean', 'Std'] * int(len(df.index)/2)\n",
    "df['Statics'] = statics\n",
    "df = df.set_index([df.index, 'Statics'])\n",
    "df = df.round(4) \n",
    "df.to_csv('../result/summary/tree.csv')"
   ]
  },
  {
   "cell_type": "code",
   "execution_count": null,
   "metadata": {},
   "outputs": [],
   "source": [
    "# 各osの統計量をまとめる\n",
    "svm = pd.DataFrame(index=[], columns=metrics)\n",
    "for i in range(len(desc_list)):\n",
    "    tmp = desc_list[i][desc_list[i].columns[8:12]]\n",
    "    tmp.columns =metrics\n",
    "    svm = pd.concat([svm, tmp])\n",
    "    \n",
    "# 形式を論文用に変更\n",
    "df = pd.DataFrame(index=[], columns=col)\n",
    "mean = svm.loc['mean'].T\n",
    "mean.columns = col\n",
    "std = svm.loc['std'].T\n",
    "std.columns = col\n",
    "\n",
    "for i in range(len(mean.index)):\n",
    "    df = pd.concat([df, mean.iloc[[i]]])\n",
    "    df = pd.concat([df, std.iloc[[i]]])\n",
    "statics = ['Mean', 'Std'] * int(len(df.index)/2)\n",
    "df['Statics'] = statics\n",
    "df = df.set_index([df.index, 'Statics'])\n",
    "df = df.round(4) \n",
    "df.to_csv('../result/summary/knn.csv')"
   ]
  },
  {
   "cell_type": "code",
   "execution_count": null,
   "metadata": {},
   "outputs": [],
   "source": []
  }
 ],
 "metadata": {
  "kernelspec": {
   "display_name": "Python 3",
   "language": "python",
   "name": "python3"
  },
  "language_info": {
   "codemirror_mode": {
    "name": "ipython",
    "version": 3
   },
   "file_extension": ".py",
   "mimetype": "text/x-python",
   "name": "python",
   "nbconvert_exporter": "python",
   "pygments_lexer": "ipython3",
   "version": "3.6.2"
  },
  "varInspector": {
   "cols": {
    "lenName": 16,
    "lenType": 16,
    "lenVar": 40
   },
   "kernels_config": {
    "python": {
     "delete_cmd_postfix": "",
     "delete_cmd_prefix": "del ",
     "library": "var_list.py",
     "varRefreshCmd": "print(var_dic_list())"
    },
    "r": {
     "delete_cmd_postfix": ") ",
     "delete_cmd_prefix": "rm(",
     "library": "var_list.r",
     "varRefreshCmd": "cat(var_dic_list()) "
    }
   },
   "types_to_exclude": [
    "module",
    "function",
    "builtin_function_or_method",
    "instance",
    "_Feature"
   ],
   "window_display": false
  }
 },
 "nbformat": 4,
 "nbformat_minor": 2
}

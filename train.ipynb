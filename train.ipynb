{
 "cells": [
  {
   "cell_type": "code",
   "execution_count": 1,
   "metadata": {
    "slideshow": {
     "slide_type": "skip"
    }
   },
   "outputs": [],
   "source": [
    "import numpy as np\n",
    "import pandas as pd\n",
    "import multivariate_os\n",
    "import matplotlib.pyplot as plt\n",
    "from collections import Counter\n",
    "from sklearn.model_selection import train_test_split\n",
    "from imblearn import over_sampling\n",
    "from numpy.random import multivariate_normal\n",
    "from sklearn import svm\n",
    "from sklearn.neighbors import KNeighborsClassifier\n",
    "from imblearn.metrics import classification_report_imbalanced\n",
    "from sklearn.metrics import roc_curve, auc\n",
    "import re\n",
    "from io import StringIO"
   ]
  },
  {
   "cell_type": "code",
   "execution_count": 2,
   "metadata": {},
   "outputs": [],
   "source": [
    "data = pd.read_csv(\"Predataset/out_glass1.csv\")\n",
    "X = data.drop('Label', axis=1)\n",
    "y = data.Label\n",
    "pos = data[data.Label == 1]\n",
    "pos = pos.drop('Label', axis=1)"
   ]
  },
  {
   "cell_type": "code",
   "execution_count": 3,
   "metadata": {
    "slideshow": {
     "slide_type": "skip"
    }
   },
   "outputs": [
    {
     "name": "stdout",
     "output_type": "stream",
     "text": [
      "y_train: Counter({0: 84, 1: 44})\n",
      "y_test: Counter({0: 54, 1: 32})\n",
      "40\n"
     ]
    }
   ],
   "source": [
    "RANDOM_STATE = 42\n",
    "# Split the data\n",
    "X_train, X_test, y_train, y_test = train_test_split(X, y, test_size=0.4, random_state=RANDOM_STATE)\n",
    "cnt = Counter(y_train)\n",
    "num_minority = int((cnt[0] - cnt[1]))\n",
    "print('y_train: {}'.format(Counter(y_train)))\n",
    "print('y_test: {}'.format(Counter(y_test)))\n",
    "print(num_minority)"
   ]
  },
  {
   "cell_type": "code",
   "execution_count": 4,
   "metadata": {},
   "outputs": [
    {
     "name": "stdout",
     "output_type": "stream",
     "text": [
      "Searching zero std...\n",
      "Finished.\n"
     ]
    }
   ],
   "source": [
    "zero_list, zero_mean, pos = multivariate_os.find_zerostd(pos)\n",
    "df = multivariate_os.mnd_os(zero_list, zero_mean, pos, num_minority)"
   ]
  },
  {
   "cell_type": "markdown",
   "metadata": {},
   "source": [
    "# Learning"
   ]
  },
  {
   "cell_type": "code",
   "execution_count": 5,
   "metadata": {},
   "outputs": [
    {
     "name": "stdout",
     "output_type": "stream",
     "text": [
      "y_mlpd: Counter({1: 40})\n",
      "y_mlpd: Counter({1: 84, 0: 84})\n"
     ]
    }
   ],
   "source": [
    "# Load multivariate data\n",
    "# df + train data\n",
    "X_mlpd = df.drop('Label', axis=1)\n",
    "y_mlpd = df.Label\n",
    "print('y_mlpd: {}'.format(Counter(y_mlpd)))\n",
    "X_mlpd = pd.concat([X_mlpd, X_train])\n",
    "y_mlpd = pd.concat([y_mlpd, y_train])\n",
    "print('y_mlpd: {}'.format(Counter(y_mlpd)))"
   ]
  },
  {
   "cell_type": "code",
   "execution_count": 6,
   "metadata": {
    "slideshow": {
     "slide_type": "skip"
    }
   },
   "outputs": [],
   "source": [
    "#Apply over-sampling\n",
    "sm_reg = over_sampling.SMOTE(kind='regular', random_state=RANDOM_STATE)\n",
    "ada = over_sampling.ADASYN(random_state=RANDOM_STATE)\n",
    "rand = over_sampling.RandomOverSampler(random_state=RANDOM_STATE)\n",
    "\n",
    "X_reg, y_reg = sm_reg.fit_sample(X_train, y_train)\n",
    "X_ada, y_ada = ada.fit_sample(X_train, y_train)\n",
    "X_rand, y_rand = rand.fit_sample(X_train, y_train)\n",
    "os_list = [[X_train, y_train], [X_reg, y_reg],\n",
    "           [X_ada, y_ada], [X_rand, y_rand], [X_mlpd, y_mlpd]]"
   ]
  },
  {
   "cell_type": "code",
   "execution_count": 7,
   "metadata": {},
   "outputs": [],
   "source": [
    "def report_to_df(report):\n",
    "    report = re.sub(r\" +\", \" \", report).replace(\"avg / total\", \"avg/total\").replace(\"\\n \", \"\\n\")\n",
    "    report_df = pd.read_csv(StringIO(\"Classes\" + report), sep=' ', index_col=0)        \n",
    "    return(report_df)"
   ]
  },
  {
   "cell_type": "code",
   "execution_count": 8,
   "metadata": {},
   "outputs": [
    {
     "name": "stdout",
     "output_type": "stream",
     "text": [
      "AUC=0.7083333333333334\n",
      "AUC=0.7378472222222223\n",
      "AUC=0.7239583333333333\n",
      "AUC=0.7644675925925927\n",
      "AUC=0.6984953703703703\n"
     ]
    }
   ],
   "source": [
    "svm_clf = []\n",
    "svm_df = pd.DataFrame(index=[], columns=[])\n",
    "\n",
    "for i in range(len(os_list)):\n",
    "    svm_clf.append(svm.SVC(random_state=RANDOM_STATE, probability=True).fit(os_list[i][0], os_list[i][1]))\n",
    "    \n",
    "for i in range(len(svm_clf)):\n",
    "    pred = classification_report_imbalanced(y_test, svm_clf[i].predict(X_test))\n",
    "    svm_df = svm_df.append(report_to_df(pred))\n",
    "    #calc auc\n",
    "    prob = svm_clf[i].predict_proba(X_test)[:,1]\n",
    "    fpr, tpr, thresholds = roc_curve(y_test, prob)\n",
    "    roc_auc_area = auc(fpr, tpr)\n",
    "    print('AUC={}'.format(roc_auc_area))"
   ]
  },
  {
   "cell_type": "code",
   "execution_count": 10,
   "metadata": {},
   "outputs": [
    {
     "name": "stdout",
     "output_type": "stream",
     "text": [
      "                   pre       rec       spe        f1       geo       iba       sup\n",
      "\n",
      "          0       0.75      0.78      0.56      0.76      0.67      0.46        54\n",
      "          1       0.60      0.56      0.78      0.58      0.67      0.44        32\n",
      "\n",
      "avg / total       0.69      0.70      0.64      0.70      0.67      0.45        86\n",
      "\n",
      "AUC=0.7650462962962963\n",
      "                   pre       rec       spe        f1       geo       iba       sup\n",
      "\n",
      "          0       0.79      0.70      0.69      0.75      0.68      0.47        54\n",
      "          1       0.58      0.69      0.70      0.63      0.68      0.45        32\n",
      "\n",
      "avg / total       0.71      0.70      0.69      0.70      0.68      0.46        86\n",
      "\n",
      "AUC=0.8032407407407407\n",
      "                   pre       rec       spe        f1       geo       iba       sup\n",
      "\n",
      "          0       0.78      0.59      0.72      0.67      0.63      0.41        54\n",
      "          1       0.51      0.72      0.59      0.60      0.63      0.39        32\n",
      "\n",
      "avg / total       0.68      0.64      0.67      0.65      0.63      0.40        86\n",
      "\n",
      "AUC=0.7876157407407408\n",
      "                   pre       rec       spe        f1       geo       iba       sup\n",
      "\n",
      "          0       0.77      0.76      0.62      0.77      0.68      0.48        54\n",
      "          1       0.61      0.62      0.76      0.62      0.68      0.46        32\n",
      "\n",
      "avg / total       0.71      0.71      0.67      0.71      0.68      0.47        86\n",
      "\n",
      "AUC=0.7763310185185185\n",
      "                   pre       rec       spe        f1       geo       iba       sup\n",
      "\n",
      "          0       0.75      0.72      0.59      0.74      0.65      0.43        54\n",
      "          1       0.56      0.59      0.72      0.58      0.65      0.41        32\n",
      "\n",
      "avg / total       0.68      0.67      0.64      0.68      0.65      0.42        86\n",
      "\n",
      "AUC=0.75\n"
     ]
    }
   ],
   "source": [
    "#Learning : k-NN\n",
    "k=3\n",
    "knn_clf = []\n",
    "knn_df = pd.DataFrame(index=[], columns=[])\n",
    "\n",
    "for i in range(len(os_list)):\n",
    "    knn_clf.append(KNeighborsClassifier(n_neighbors=k).fit(os_list[i][0], os_list[i][1]))\n",
    "    \n",
    "for i in range(len(knn_clf)):\n",
    "    pred = classification_report_imbalanced(y_test, knn_clf[i].predict(X_test))\n",
    "    knn_df = knn_df.append(report_to_df(pred))\n",
    "    #calc auc\n",
    "    prob = knn_clf[i].predict_proba(X_test)[:,1]\n",
    "    fpr, tpr, thresholds = roc_curve(y_test, prob)\n",
    "    roc_auc_area = auc(fpr, tpr)\n",
    "    print('AUC={}'.format(roc_auc_area))"
   ]
  },
  {
   "cell_type": "code",
   "execution_count": 12,
   "metadata": {},
   "outputs": [],
   "source": [
    "svm_df.to_csv('output/svm_glass1.csv')\n",
    "knn_df.to_csv('output/knn_glass1.csv')"
   ]
  },
  {
   "cell_type": "code",
   "execution_count": null,
   "metadata": {},
   "outputs": [],
   "source": []
  }
 ],
 "metadata": {
  "kernelspec": {
   "display_name": "Python 3",
   "language": "python",
   "name": "python3"
  },
  "language_info": {
   "codemirror_mode": {
    "name": "ipython",
    "version": 3
   },
   "file_extension": ".py",
   "mimetype": "text/x-python",
   "name": "python",
   "nbconvert_exporter": "python",
   "pygments_lexer": "ipython3",
   "version": "3.6.2"
  },
  "varInspector": {
   "cols": {
    "lenName": 16,
    "lenType": 16,
    "lenVar": 40
   },
   "kernels_config": {
    "python": {
     "delete_cmd_postfix": "",
     "delete_cmd_prefix": "del ",
     "library": "var_list.py",
     "varRefreshCmd": "print(var_dic_list())"
    },
    "r": {
     "delete_cmd_postfix": ") ",
     "delete_cmd_prefix": "rm(",
     "library": "var_list.r",
     "varRefreshCmd": "cat(var_dic_list()) "
    }
   },
   "oldHeight": 207.666666,
   "position": {
    "height": "229px",
    "left": "592px",
    "right": "20px",
    "top": "108px",
    "width": "653px"
   },
   "types_to_exclude": [
    "module",
    "function",
    "builtin_function_or_method",
    "instance",
    "_Feature"
   ],
   "varInspector_section_display": "block",
   "window_display": false
  }
 },
 "nbformat": 4,
 "nbformat_minor": 2
}

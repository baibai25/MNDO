{
 "cells": [
  {
   "cell_type": "code",
   "execution_count": 1,
   "metadata": {
    "slideshow": {
     "slide_type": "skip"
    }
   },
   "outputs": [],
   "source": [
    "import numpy as np\n",
    "import pandas as pd\n",
    "import multivariate_os\n",
    "import matplotlib.pyplot as plt\n",
    "from collections import Counter\n",
    "from sklearn.model_selection import train_test_split\n",
    "from imblearn import over_sampling as os\n",
    "from numpy.random import multivariate_normal\n",
    "from sklearn import svm\n",
    "from sklearn.neighbors import KNeighborsClassifier\n",
    "from imblearn.metrics import classification_report_imbalanced\n",
    "from sklearn.metrics import roc_curve, auc"
   ]
  },
  {
   "cell_type": "code",
   "execution_count": 2,
   "metadata": {},
   "outputs": [],
   "source": [
    "data = pd.read_csv(\"/home/yura/Desktop/out_poker-8_vs_6.csv\")\n",
    "X = data.drop('Label', axis=1)\n",
    "y = data.Label\n",
    "pos = data[data.Label == 1]\n",
    "pos = pos.drop('Label', axis=1)"
   ]
  },
  {
   "cell_type": "code",
   "execution_count": 3,
   "metadata": {
    "slideshow": {
     "slide_type": "skip"
    }
   },
   "outputs": [
    {
     "name": "stdout",
     "output_type": "stream",
     "text": [
      "y_train: Counter({0: 873, 1: 13})\n",
      "y_test: Counter({0: 587, 1: 4})\n",
      "860\n"
     ]
    }
   ],
   "source": [
    "\n",
    "RANDOM_STATE = 42\n",
    "# Split the data\n",
    "X_train, X_test, y_train, y_test = train_test_split(X, y, test_size=0.4, random_state=RANDOM_STATE)\n",
    "cnt = Counter(y_train)\n",
    "num_minority = int((cnt[0] - cnt[1]))\n",
    "print('y_train: {}'.format(Counter(y_train)))\n",
    "print('y_test: {}'.format(Counter(y_test)))\n",
    "print(num_minority)"
   ]
  },
  {
   "cell_type": "code",
   "execution_count": 4,
   "metadata": {},
   "outputs": [
    {
     "name": "stdout",
     "output_type": "stream",
     "text": [
      "[]\n",
      "[]\n",
      "          S1        C1        S2        C2        S3        C3        S4  \\\n",
      "S1  1.000000  0.010273  1.000000  0.016300  1.000000  0.093249  1.000000   \n",
      "C1  0.010273  1.000000  0.010273  0.820168  0.010273  0.811093  0.010273   \n",
      "S2  1.000000  0.010273  1.000000  0.016300  1.000000  0.093249  1.000000   \n",
      "C2  0.016300  0.820168  0.016300  1.000000  0.016300  0.731053  0.016300   \n",
      "S3  1.000000  0.010273  1.000000  0.016300  1.000000  0.093249  1.000000   \n",
      "C3  0.093249  0.811093  0.093249  0.731053  0.093249  1.000000  0.093249   \n",
      "S4  1.000000  0.010273  1.000000  0.016300  1.000000  0.093249  1.000000   \n",
      "C4  0.071425  0.788312  0.071425  0.767192  0.071425  0.831592  0.071425   \n",
      "S5  1.000000  0.010273  1.000000  0.016300  1.000000  0.093249  1.000000   \n",
      "C5  0.051368  0.586248  0.051368  0.781875  0.051368  0.706733  0.051368   \n",
      "\n",
      "          C4        S5        C5  \n",
      "S1  0.071425  1.000000  0.051368  \n",
      "C1  0.788312  0.010273  0.586248  \n",
      "S2  0.071425  1.000000  0.051368  \n",
      "C2  0.767192  0.016300  0.781875  \n",
      "S3  0.071425  1.000000  0.051368  \n",
      "C3  0.831592  0.093249  0.706733  \n",
      "S4  0.071425  1.000000  0.051368  \n",
      "C4  1.000000  0.071425  0.866666  \n",
      "S5  0.071425  1.000000  0.051368  \n",
      "C5  0.866666  0.051368  1.000000  \n",
      "['S1', 'C1', 'S2', 'C2', 'S3', 'C3', 'S4', 'C4', 'S5', 'C5']\n",
      "['S2', 'C2', 'S2', 'C1', 'S2', 'C4', 'S2', 'C5', 'S2', 'C4']\n"
     ]
    }
   ],
   "source": [
    "zero_list, zero_mean, pos = multivariate_os.find_zerostd(pos)\n",
    "df = multivariate_os.mnd_os(zero_list, zero_mean, pos, num_minority)"
   ]
  },
  {
   "cell_type": "markdown",
   "metadata": {},
   "source": [
    "# Learning"
   ]
  },
  {
   "cell_type": "code",
   "execution_count": 5,
   "metadata": {},
   "outputs": [
    {
     "name": "stdout",
     "output_type": "stream",
     "text": [
      "y_mlpd: Counter({1: 860})\n",
      "y_mlpd: Counter({1: 873, 0: 873})\n"
     ]
    }
   ],
   "source": [
    "# Load multivariate data\n",
    "# df + traindata\n",
    "mlpd = pd.read_csv(\"/home/yura/Desktop/mlpd_train.csv\")\n",
    "X_mlpd = mlpd.drop('Label', axis=1)\n",
    "y_mlpd = mlpd.Label\n",
    "print('y_mlpd: {}'.format(Counter(y_mlpd)))\n",
    "X_mlpd = pd.concat([X_mlpd, X_train])\n",
    "y_mlpd = pd.concat([y_mlpd, y_train])\n",
    "print('y_mlpd: {}'.format(Counter(y_mlpd)))"
   ]
  },
  {
   "cell_type": "code",
   "execution_count": 6,
   "metadata": {
    "slideshow": {
     "slide_type": "skip"
    }
   },
   "outputs": [],
   "source": [
    "#Apply over-sampling\n",
    "sm_reg = os.SMOTE(kind='regular', random_state=RANDOM_STATE)\n",
    "ada = os.ADASYN(random_state=RANDOM_STATE)\n",
    "rand = os.RandomOverSampler(random_state=RANDOM_STATE)\n",
    "\n",
    "X_reg, y_reg = sm_reg.fit_sample(X_train, y_train)\n",
    "X_ada, y_ada = ada.fit_sample(X_train, y_train)\n",
    "X_rand, y_rand = rand.fit_sample(X_train, y_train)\n",
    "os_list = [[X_reg, y_reg], [X_rand, y_rand], [X_mlpd, y_mlpd]]"
   ]
  },
  {
   "cell_type": "code",
   "execution_count": 7,
   "metadata": {},
   "outputs": [
    {
     "name": "stdout",
     "output_type": "stream",
     "text": [
      "                   pre       rec       spe        f1       geo       iba       sup\n",
      "\n",
      "          0       0.99      0.99      0.00      0.99      0.00      0.00       587\n",
      "          1       0.00      0.00      0.99      0.00      0.00      0.00         4\n",
      "\n",
      "avg / total       0.99      0.99      0.01      0.99      0.00      0.00       591\n",
      "\n",
      "AUC=0.614991482112436\n",
      "                   pre       rec       spe        f1       geo       iba       sup\n",
      "\n",
      "          0       0.99      1.00      0.00      0.99      0.00      0.00       587\n",
      "          1       0.00      0.00      1.00      0.00      0.00      0.00         4\n",
      "\n",
      "avg / total       0.99      0.99      0.01      0.99      0.00      0.00       591\n",
      "\n",
      "AUC=0.6588586030664395\n",
      "                   pre       rec       spe        f1       geo       iba       sup\n",
      "\n",
      "          0       0.99      0.99      0.00      0.99      0.00      0.00       587\n",
      "          1       0.00      0.00      0.99      0.00      0.00      0.00         4\n",
      "\n",
      "avg / total       0.99      0.99      0.01      0.99      0.00      0.00       591\n",
      "\n",
      "AUC=0.6575809199318569\n",
      "                   pre       rec       spe        f1       geo       iba       sup\n",
      "\n",
      "          0       0.99      1.00      0.00      0.99      0.00      0.00       587\n",
      "          1       0.00      0.00      1.00      0.00      0.00      0.00         4\n",
      "\n",
      "avg / total       0.99      0.99      0.01      0.99      0.00      0.00       591\n",
      "\n",
      "AUC=0.6609880749574105\n",
      "                   pre       rec       spe        f1       geo       iba       sup\n",
      "\n",
      "          0       0.99      1.00      0.00      1.00      0.00      0.00       587\n",
      "          1       0.00      0.00      1.00      0.00      0.00      0.00         4\n",
      "\n",
      "avg / total       0.99      0.99      0.01      0.99      0.00      0.00       591\n",
      "\n",
      "AUC=0.6094548551959114\n",
      "                   pre       rec       spe        f1       geo       iba       sup\n",
      "\n",
      "          0       0.99      0.83      0.25      0.91      0.10      0.01       587\n",
      "          1       0.01      0.25      0.83      0.02      0.10      0.01         4\n",
      "\n",
      "avg / total       0.99      0.83      0.25      0.90      0.10      0.01       591\n",
      "\n",
      "AUC=0.4599659284497445\n"
     ]
    },
    {
     "name": "stderr",
     "output_type": "stream",
     "text": [
      "/home/yura/anaconda3/lib/python3.6/site-packages/sklearn/metrics/classification.py:1135: UndefinedMetricWarning: Precision and F-score are ill-defined and being set to 0.0 in labels with no predicted samples.\n",
      "  'precision', 'predicted', average, warn_for)\n",
      "/home/yura/anaconda3/lib/python3.6/site-packages/imblearn/metrics/classification.py:242: UndefinedMetricWarning: Specificity is ill-defined and being set to 0.0 in labels with no predicted samples.\n",
      "  warn_for)\n",
      "/home/yura/anaconda3/lib/python3.6/site-packages/imblearn/metrics/classification.py:244: UndefinedMetricWarning: Sensitivity is ill-defined and being set to 0.0 in labels with no true samples.\n",
      "  average, warn_for)\n"
     ]
    }
   ],
   "source": [
    "svm_clf = []\n",
    "for i in range(len(os_list)):\n",
    "    svm_clf.append(svm.SVC(random_state=RANDOM_STATE, probability=True).fit(os_list[i][0], os_list[i][1]))\n",
    "    \n",
    "for i in range(len(svm_clf)):\n",
    "    print(classification_report_imbalanced(y_test, svm_clf[i].predict(X_test)))\n",
    "    #calc auc\n",
    "    prob = svm_clf[i].predict_proba(X_test)[:,1]\n",
    "    fpr, tpr, thresholds = roc_curve(y_test, prob)\n",
    "    roc_auc_area = auc(fpr, tpr)\n",
    "    print('AUC={}'.format(roc_auc_area))"
   ]
  },
  {
   "cell_type": "code",
   "execution_count": 8,
   "metadata": {},
   "outputs": [
    {
     "name": "stdout",
     "output_type": "stream",
     "text": [
      "                   pre       rec       spe        f1       geo       iba       sup\n",
      "\n",
      "          0       0.99      0.92      0.25      0.96      0.15      0.02       587\n",
      "          1       0.02      0.25      0.92      0.04      0.15      0.02         4\n",
      "\n",
      "avg / total       0.99      0.92      0.25      0.95      0.15      0.02       591\n",
      "\n",
      "AUC=0.5732538330494037\n",
      "                   pre       rec       spe        f1       geo       iba       sup\n",
      "\n",
      "          0       0.99      0.97      0.00      0.98      0.00      0.00       587\n",
      "          1       0.00      0.00      0.97      0.00      0.00      0.00         4\n",
      "\n",
      "avg / total       0.99      0.96      0.01      0.97      0.00      0.00       591\n",
      "\n",
      "AUC=0.5909284497444633\n",
      "                   pre       rec       spe        f1       geo       iba       sup\n",
      "\n",
      "          0       0.99      0.96      0.00      0.98      0.00      0.00       587\n",
      "          1       0.00      0.00      0.96      0.00      0.00      0.00         4\n",
      "\n",
      "avg / total       0.99      0.96      0.01      0.97      0.00      0.00       591\n",
      "\n",
      "AUC=0.581984667802385\n",
      "                   pre       rec       spe        f1       geo       iba       sup\n",
      "\n",
      "          0       0.99      0.97      0.00      0.98      0.00      0.00       587\n",
      "          1       0.00      0.00      0.97      0.00      0.00      0.00         4\n",
      "\n",
      "avg / total       0.99      0.96      0.01      0.97      0.00      0.00       591\n",
      "\n",
      "AUC=0.5902896081771721\n",
      "                   pre       rec       spe        f1       geo       iba       sup\n",
      "\n",
      "          0       0.99      0.99      0.00      0.99      0.00      0.00       587\n",
      "          1       0.00      0.00      0.99      0.00      0.00      0.00         4\n",
      "\n",
      "avg / total       0.99      0.99      0.01      0.99      0.00      0.00       591\n",
      "\n",
      "AUC=0.6122231686541737\n",
      "                   pre       rec       spe        f1       geo       iba       sup\n",
      "\n",
      "          0       0.99      0.90      0.25      0.94      0.13      0.02       587\n",
      "          1       0.02      0.25      0.90      0.03      0.13      0.01         4\n",
      "\n",
      "avg / total       0.99      0.89      0.25      0.94      0.13      0.02       591\n",
      "\n",
      "AUC=0.592206132879046\n"
     ]
    }
   ],
   "source": [
    "#Learning : k-NN\n",
    "k=3\n",
    "knn_clf = []\n",
    "for i in range(len(os_list)):\n",
    "    knn_clf.append(KNeighborsClassifier(n_neighbors=k).fit(os_list[i][0], os_list[i][1]))\n",
    "\n",
    "for i in range(len(knn_clf)):\n",
    "    print(classification_report_imbalanced(y_test, knn_clf[i].predict(X_test)))\n",
    "    #calc auc\n",
    "    prob = knn_clf[i].predict_proba(X_test)[:,1]\n",
    "    fpr, tpr, thresholds = roc_curve(y_test, prob)\n",
    "    roc_auc_area = auc(fpr, tpr)\n",
    "    print('AUC={}'.format(roc_auc_area))"
   ]
  },
  {
   "cell_type": "code",
   "execution_count": null,
   "metadata": {},
   "outputs": [],
   "source": []
  }
 ],
 "metadata": {
  "kernelspec": {
   "display_name": "Python 3",
   "language": "python",
   "name": "python3"
  },
  "language_info": {
   "codemirror_mode": {
    "name": "ipython",
    "version": 3
   },
   "file_extension": ".py",
   "mimetype": "text/x-python",
   "name": "python",
   "nbconvert_exporter": "python",
   "pygments_lexer": "ipython3",
   "version": "3.6.2"
  },
  "varInspector": {
   "cols": {
    "lenName": 16,
    "lenType": 16,
    "lenVar": 40
   },
   "kernels_config": {
    "python": {
     "delete_cmd_postfix": "",
     "delete_cmd_prefix": "del ",
     "library": "var_list.py",
     "varRefreshCmd": "print(var_dic_list())"
    },
    "r": {
     "delete_cmd_postfix": ") ",
     "delete_cmd_prefix": "rm(",
     "library": "var_list.r",
     "varRefreshCmd": "cat(var_dic_list()) "
    }
   },
   "oldHeight": 207.666666,
   "position": {
    "height": "229px",
    "left": "592px",
    "right": "20px",
    "top": "108px",
    "width": "653px"
   },
   "types_to_exclude": [
    "module",
    "function",
    "builtin_function_or_method",
    "instance",
    "_Feature"
   ],
   "varInspector_section_display": "block",
   "window_display": false
  }
 },
 "nbformat": 4,
 "nbformat_minor": 2
}
